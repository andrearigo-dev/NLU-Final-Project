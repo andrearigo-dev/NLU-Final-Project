{
  "nbformat": 4,
  "nbformat_minor": 0,
  "metadata": {
    "colab": {
      "name": "nlu_project_ner_tagging",
      "provenance": [],
      "collapsed_sections": [],
      "toc_visible": true
    },
    "kernelspec": {
      "name": "python3",
      "display_name": "Python 3"
    },
    "language_info": {
      "name": "python"
    },
    "accelerator": "GPU"
  },
  "cells": [
    {
      "cell_type": "markdown",
      "metadata": {
        "id": "ZyCZM5TxQfCk"
      },
      "source": [
        "# Preparing corpus"
      ]
    },
    {
      "cell_type": "markdown",
      "metadata": {
        "id": "9eDMI9nsQNS4"
      },
      "source": [
        "## Load data"
      ]
    },
    {
      "cell_type": "code",
      "metadata": {
        "id": "9dRidaSgMRsm",
        "colab": {
          "base_uri": "https://localhost:8080/"
        },
        "outputId": "744523f6-eaba-4c10-d8d5-5b74e2a5a678"
      },
      "source": [
        "import os\n",
        "import sys\n",
        "import torch\n",
        "import pandas as pd\n",
        "\n",
        "drive_path = 'drive/MyDrive/Colab Notebooks/'\n",
        "sys.path.insert(0, os.path.abspath(drive_path))\n",
        "\n",
        "import conll\n",
        "\n",
        "train_set = [sent for sent in conll.read_corpus_conll(drive_path + 'data/conll/train.txt') if '-DOCSTART-' not in sent[0][0]]\n",
        "test_set = [sent for sent in conll.read_corpus_conll(drive_path + 'data/conll/test.txt') if '-DOCSTART-' not in sent[0][0]]\n",
        "\n",
        "# reshape dataset\n",
        "train_set = [[(token[0].split()[0], token[0].split()[-1]) for token in sent] for sent in train_set]\n",
        "test_set = [[(token[0].split()[0], token[0].split()[-1]) for token in sent] for sent in test_set]\n",
        "\n",
        "print(train_set[0][:4])\n",
        "print(test_set[0][:4])"
      ],
      "execution_count": 2,
      "outputs": [
        {
          "output_type": "stream",
          "name": "stdout",
          "text": [
            "[('EU', 'B-ORG'), ('rejects', 'O'), ('German', 'B-MISC'), ('call', 'O')]\n",
            "[('SOCCER', 'O'), ('-', 'O'), ('JAPAN', 'B-LOC'), ('GET', 'O')]\n"
          ]
        }
      ]
    },
    {
      "cell_type": "markdown",
      "metadata": {
        "id": "Foh1djNpRflr"
      },
      "source": [
        "## Preparing data"
      ]
    },
    {
      "cell_type": "markdown",
      "metadata": {
        "id": "E9XFWRY4WUCV"
      },
      "source": [
        "### Define function to get vocabulary of words and tags (labels)"
      ]
    },
    {
      "cell_type": "code",
      "metadata": {
        "id": "wJnI3VnIRy9y"
      },
      "source": [
        "# idx specifies the index of the colunm to get (0: words, -1: tags)\n",
        "def get_vocabulary(data, idx=0):\n",
        "    vocab = set()\n",
        "    for sent in data:\n",
        "        for token in sent:\n",
        "            vocab.add(token[idx])\n",
        "    return sorted(list(vocab))"
      ],
      "execution_count": 3,
      "outputs": []
    },
    {
      "cell_type": "markdown",
      "metadata": {
        "id": "uNfCubaaWNMY"
      },
      "source": [
        "### Create numerical mappings for words and tags"
      ]
    },
    {
      "cell_type": "code",
      "metadata": {
        "id": "LdzVR2h7Wes1"
      },
      "source": [
        "def create_mapping(vocabulary, initial=None):\n",
        "    idx = {} if initial is None else initial\n",
        "\n",
        "    idx.update(\n",
        "        {w: i + len(idx) for i, w in enumerate(vocabulary)}\n",
        "        )\n",
        "    return idx"
      ],
      "execution_count": 4,
      "outputs": []
    },
    {
      "cell_type": "code",
      "metadata": {
        "id": "oHsAsWTzdYh4"
      },
      "source": [
        "# get vocab\n",
        "words = get_vocabulary(train_set)\n",
        "labels = get_vocabulary(train_set, -1)\n",
        "\n",
        "# word mappings\n",
        "\n",
        "# word to index\n",
        "# word index\n",
        "word2idx = create_mapping(words, initial={\"<PAD>\":0, \"<UNK>\":1})\n",
        "\n",
        "# index to word, the inverse of the previous map\n",
        "# allowed since indexes are unique\n",
        "idx2word = {v: k for k, v in word2idx.items()}\n",
        "\n",
        "# labels mappings\n",
        "\n",
        "# label to index\n",
        "label2idx = create_mapping(labels)\n",
        "\n",
        "# index to label, the inverse of the previous map\n",
        "# allowed since indexes are unique\n",
        "idx2label = {v: k for k, v in label2idx.items()}"
      ],
      "execution_count": 5,
      "outputs": []
    },
    {
      "cell_type": "markdown",
      "metadata": {
        "id": "FfQ_5goQXgih"
      },
      "source": [
        "### Pad and truncate"
      ]
    },
    {
      "cell_type": "code",
      "metadata": {
        "id": "qdbb9_uoXft4"
      },
      "source": [
        "def pad_and_truncate(sequences, max_len, value):\n",
        "\n",
        "  for i, seq in enumerate(sequences):\n",
        "    l = len(seq)\n",
        "    if l > max_len:\n",
        "      # truncate\n",
        "      sequences[i] = seq[:max_len]\n",
        "    else:\n",
        "      # pad\n",
        "      delta = max_len - l\n",
        "      pad = [value for i in range(delta)]\n",
        "      seq.extend(pad)\n",
        "      sequences[i] = seq\n",
        "  \n",
        "  return sequences"
      ],
      "execution_count": 6,
      "outputs": []
    },
    {
      "cell_type": "markdown",
      "metadata": {
        "id": "eQENEbX3YnHV"
      },
      "source": [
        "Prepare in advance a function to unpad e change the format for CoNLL evaluation"
      ]
    },
    {
      "cell_type": "code",
      "metadata": {
        "id": "3GOnvlj2Ytbj"
      },
      "source": [
        "def unpad(preds, truths):\n",
        "  refs = truths.copy()\n",
        "  if len(preds) != len(refs):\n",
        "    raise ValueError\n",
        "  \n",
        "  pp = 0\n",
        "  tt = 0\n",
        "\n",
        "  hyps = []\n",
        "  \n",
        "  for i, sent in enumerate(refs):\n",
        "    if len(sent) < len(preds[i]):\n",
        "      # sentence has been padded\n",
        "      hyps.append(preds[i][:len(sent)])\n",
        "    \n",
        "    elif len(sent) > len(preds[i]):\n",
        "      # sentence has been truncated\n",
        "      # in this case its necessary to truncate\n",
        "      # also the ground truth so that they can be\n",
        "      # compared\n",
        "      refs[i] = refs[i][:len(preds[i])]\n",
        "      hyps.append(preds[i])\n",
        "    \n",
        "    elif len(sent) == len(preds[i]):\n",
        "      hyps.append(preds[i])\n",
        "\n",
        "  return hyps, refs"
      ],
      "execution_count": 40,
      "outputs": []
    },
    {
      "cell_type": "code",
      "metadata": {
        "id": "nqg9pktA3wIr"
      },
      "source": [
        "def format_predictions_for_conll(preds, idx2label):\n",
        "  return [[('_', idx2label.get(i)) for i in s] for s in preds]"
      ],
      "execution_count": 8,
      "outputs": []
    },
    {
      "cell_type": "markdown",
      "metadata": {
        "id": "hH8YiElkbtAP"
      },
      "source": [
        "## Define functions to prepare the dataset and the train step for later"
      ]
    },
    {
      "cell_type": "markdown",
      "metadata": {
        "id": "YgAzmMopb8kO"
      },
      "source": [
        "### Train set"
      ]
    },
    {
      "cell_type": "code",
      "metadata": {
        "id": "TQEQGnn2aMMs"
      },
      "source": [
        "import torch.nn.functional as F\n",
        "\n",
        "def prepare_train(train_set, labels, word2idx, label2idx, max_len=None):\n",
        "  # vectorize data\n",
        "  x_train_int = [[word2idx[w] for w, t in s] for s in train_set]\n",
        "  # print(\"Train textual: {}\".format(list(map(lambda x: x[0], train_set[0]))))\n",
        "  # print(\"Train encoded: {}\".format(x_train_int[0]))\n",
        "\n",
        "  # padding and truncating\n",
        "\n",
        "  # get max length\n",
        "  if max_len is None:\n",
        "    max_len = max(map(len, x_train_int))\n",
        "\n",
        "  # pad the sentences to max length\n",
        "  x_train_pad = pad_and_truncate(x_train_int, max_len, word2idx['<PAD>'])\n",
        "\n",
        "  # vectorize labels\n",
        "  y_train_int = [[label2idx[t] for w, t in s] for s in train_set]\n",
        "  y_train_pad = pad_and_truncate(y_train_int, max_len, label2idx['O'])\n",
        "\n",
        "  x_train_pad = torch.tensor(x_train_pad)\n",
        "  y_train_pad = torch.tensor(y_train_pad)\n",
        "\n",
        "  # 8 is the id of 'O'\n",
        "  # print(\"Textual: {}\".format(list(map(lambda x: x[1], train_set[0]))))\n",
        "  # print(\"Encoded & Padded: {}\".format(y_train_pad[0]))\n",
        "\n",
        "  # one-hot encoding for labels\n",
        "  y_train_ohv = F.one_hot(y_train_pad, num_classes=len(labels))\n",
        "\n",
        "  return x_train_pad, y_train_ohv.float(), max_len"
      ],
      "execution_count": 9,
      "outputs": []
    },
    {
      "cell_type": "markdown",
      "metadata": {
        "id": "CMlH7wrf530D"
      },
      "source": [
        "### Test Set"
      ]
    },
    {
      "cell_type": "code",
      "metadata": {
        "id": "pThnAZxbcE21"
      },
      "source": [
        "def prepare_test(test_set, labels, word2idx, label2idx, max_len):\n",
        "  # replace words not in training with <UNK>\n",
        "  # insert in X_test_int the index of the word if it is in the vocabulary\n",
        "  # otherwise inserts the index for <UNK>\n",
        "  x_test_int = [[word2idx.get(w, word2idx.get('<UNK>')) for w, t in s] for s in test_set]\n",
        "  x_test_pad = pad_and_truncate(x_test_int, max_len, word2idx['<PAD>'])\n",
        "\n",
        "  # replace tags not in training with 'O'\n",
        "  # same way as before\n",
        "  y_test_int = [[label2idx.get(t, label2idx.get('O')) for w, t in s] for s in test_set]\n",
        "  y_test_pad = pad_and_truncate(y_test_int, max_len, label2idx['O'])\n",
        "\n",
        "  x_test_pad = torch.tensor(x_test_pad)\n",
        "  y_test_pad = torch.tensor(y_test_pad)\n",
        "\n",
        "  # to one-hot encoding\n",
        "  y_test_ohv = F.one_hot(y_test_pad, num_classes=len(labels))\n",
        "\n",
        "  return x_test_pad, y_test_ohv.float()"
      ],
      "execution_count": 10,
      "outputs": []
    },
    {
      "cell_type": "markdown",
      "metadata": {
        "id": "pKYJD5S9fSLI"
      },
      "source": [
        "## Putting all in a Dataset object"
      ]
    },
    {
      "cell_type": "code",
      "metadata": {
        "id": "No1V129NcoL5"
      },
      "source": [
        "from torch.utils.data import TensorDataset, DataLoader\n",
        "\n",
        "# mean_len = int(sum(map(len, train_set))/len(train_set))\n",
        "# print(mean_len)\n",
        "\n",
        "X_train, Y_train, max_len = prepare_train(train_set, labels, word2idx, label2idx)\n",
        "X_test, Y_test = prepare_test(test_set, labels, word2idx, label2idx, max_len)\n",
        "\n",
        "train_dataset = TensorDataset(X_train, Y_train)\n",
        "test_dataset = TensorDataset(X_test, Y_test)"
      ],
      "execution_count": 11,
      "outputs": []
    },
    {
      "cell_type": "markdown",
      "metadata": {
        "id": "Rd3y3EsmnNrK"
      },
      "source": [
        "# Define train step"
      ]
    },
    {
      "cell_type": "code",
      "metadata": {
        "colab": {
          "base_uri": "https://localhost:8080/",
          "height": 36
        },
        "id": "U_W5zsK7p1nh",
        "outputId": "f1db3f4b-2565-4066-8ea7-afb8b658b91e"
      },
      "source": [
        "device = 'cuda' if torch.cuda.is_available() else 'cpu'\n",
        "device"
      ],
      "execution_count": 12,
      "outputs": [
        {
          "output_type": "execute_result",
          "data": {
            "application/vnd.google.colaboratory.intrinsic+json": {
              "type": "string"
            },
            "text/plain": [
              "'cuda'"
            ]
          },
          "metadata": {},
          "execution_count": 12
        }
      ]
    },
    {
      "cell_type": "code",
      "metadata": {
        "id": "LAtAFHYQrvDK"
      },
      "source": [
        "def train_step(X, Y, model, loss_f, optimizer):\n",
        "  model.zero_grad()\n",
        "\n",
        "  # Get model predictions\n",
        "  pred = model(X)\n",
        "\n",
        "  # Computes loss\n",
        "  loss = loss_f(pred, Y)\n",
        "\n",
        "  # Computes gradients\n",
        "  loss.backward()\n",
        "\n",
        "  # Updates parameters and zeroes gradients\n",
        "  optimizer.step()\n",
        "\n",
        "  # Returns the loss\n",
        "  return loss.item()"
      ],
      "execution_count": 13,
      "outputs": []
    },
    {
      "cell_type": "markdown",
      "metadata": {
        "id": "chDjS4pAFdZy"
      },
      "source": [
        "# Create and train a BiLSTM"
      ]
    },
    {
      "cell_type": "markdown",
      "metadata": {
        "id": "iHssijT93nhv"
      },
      "source": [
        "## Define the model"
      ]
    },
    {
      "cell_type": "code",
      "metadata": {
        "id": "LfBhv3w5p9Hp"
      },
      "source": [
        "import torch.nn as nn\n",
        "\n",
        "class BiLSTM(nn.Module):\n",
        "  def __init__(self, embedding_dim, hidden_dim, vocab_size, tagset_size, pad_value):\n",
        "    super(BiLSTM, self).__init__()\n",
        "\n",
        "    self.hidden_dim = hidden_dim\n",
        "\n",
        "    self.word_embeddings = nn.Embedding(vocab_size, embedding_dim, padding_idx=pad_value)\n",
        "\n",
        "    self.dropout = nn.Dropout(0.5)\n",
        "\n",
        "    # The LSTM takes word embeddings as inputs, and outputs hidden states\n",
        "    # with dimensionality hidden_dim.\n",
        "    self.lstm = nn.LSTM(embedding_dim, hidden_dim, bidirectional=True, batch_first=True)\n",
        "\n",
        "    # The linear layer that maps from hidden state space to tag space\n",
        "    self.hidden2tag = nn.Linear(hidden_dim*2, tagset_size)\n",
        "\n",
        "    self.softmax = nn.Softmax(dim=2)\n",
        "\n",
        "  def forward(self, sentences):\n",
        "    # INPUT: batch size (= number of sentences) x len (= number of tokens)\n",
        "\n",
        "    # EMBEDS: # batch size x len x embedding_dim\n",
        "    # B sentences composed of L tokens, one embedding for token\n",
        "    embeds = self.word_embeddings(sentences)\n",
        "    embeds = self.dropout(embeds)\n",
        "\n",
        "    # LSTM_OUT: batch x len x hidden_dim * 2 (because it is bidirectional)\n",
        "    lstm_out, _ = self.lstm(embeds)\n",
        "\n",
        "    # TAG_SPACE: batch x len x tagset_size\n",
        "    # for each token in each sentence Linear gives a vector of scores, one for each class/label\n",
        "    tag_space = self.hidden2tag(lstm_out)\n",
        "\n",
        "    # convert to probabilities\n",
        "    tag_scores = self.softmax(tag_space)\n",
        "    \n",
        "    return tag_scores"
      ],
      "execution_count": 14,
      "outputs": []
    },
    {
      "cell_type": "code",
      "metadata": {
        "colab": {
          "base_uri": "https://localhost:8080/"
        },
        "id": "Iaqt8S_r0F_7",
        "outputId": "0370f0e7-25b7-47da-8d9a-6d8e6ffa016a"
      },
      "source": [
        "model = BiLSTM(\n",
        "    embedding_dim=64, # embedding output\n",
        "    hidden_dim=64, # lstm output\n",
        "    vocab_size=len(words)+2,\n",
        "    tagset_size=len(labels),\n",
        "    pad_value=word2idx['<PAD>']\n",
        ").to(device)\n",
        "\n",
        "model"
      ],
      "execution_count": 15,
      "outputs": [
        {
          "output_type": "execute_result",
          "data": {
            "text/plain": [
              "BiLSTM(\n",
              "  (word_embeddings): Embedding(23625, 64, padding_idx=0)\n",
              "  (dropout): Dropout(p=0.5, inplace=False)\n",
              "  (lstm): LSTM(64, 64, batch_first=True, bidirectional=True)\n",
              "  (hidden2tag): Linear(in_features=128, out_features=9, bias=True)\n",
              "  (softmax): Softmax(dim=2)\n",
              ")"
            ]
          },
          "metadata": {},
          "execution_count": 15
        }
      ]
    },
    {
      "cell_type": "markdown",
      "metadata": {
        "id": "Y86D8ZLNRD4c"
      },
      "source": [
        "## Training the model"
      ]
    },
    {
      "cell_type": "code",
      "metadata": {
        "id": "ayd47l53RGKS"
      },
      "source": [
        "def train_model(model, train_dataset, bs, epochs, print_every, device):\n",
        "  train_dataloader = DataLoader(\n",
        "    train_dataset,\n",
        "    batch_size=bs,\n",
        "    shuffle=True\n",
        "    )\n",
        "  \n",
        "  loss_f = nn.BCELoss()\n",
        "  optimizer = torch.optim.Adam(model.parameters(), lr=0.01)\n",
        "  loss = 0\n",
        "  losses = []\n",
        "\n",
        "  tot_batches = len(train_dataloader)\n",
        "  \n",
        "  model.train()\n",
        "  for e in range(epochs):\n",
        "    processed = 0\n",
        "\n",
        "    for X_batch, Y_batch in train_dataloader:\n",
        "\n",
        "      loss = train_step(X_batch.to(device), Y_batch.to(device), model, loss_f, optimizer)\n",
        "      losses.append(loss)\n",
        "\n",
        "      processed += 1\n",
        "\n",
        "      if processed % print_every == 0:\n",
        "        print(f\"\\rEpoch:{e+1}/{epochs}, Batches: {processed}/{tot_batches}, Loss: {loss}\")\n",
        "  \n",
        "  model.eval()\n",
        "  return losses"
      ],
      "execution_count": 16,
      "outputs": []
    },
    {
      "cell_type": "code",
      "metadata": {
        "id": "ayAD_N_vsMvN",
        "colab": {
          "base_uri": "https://localhost:8080/"
        },
        "outputId": "6d87108d-20b0-499f-d16a-dda5e472bb05"
      },
      "source": [
        "losses = train_model(model, train_dataset, 60, 20, 100, device)"
      ],
      "execution_count": 17,
      "outputs": [
        {
          "output_type": "stream",
          "name": "stdout",
          "text": [
            "Epoch:1/20, Batches: 100/235, Loss: 0.012809001840651035\n",
            "Epoch:1/20, Batches: 200/235, Loss: 0.010902890004217625\n",
            "Epoch:2/20, Batches: 100/235, Loss: 0.004765823017805815\n",
            "Epoch:2/20, Batches: 200/235, Loss: 0.006503804586827755\n",
            "Epoch:3/20, Batches: 100/235, Loss: 0.004286171402782202\n",
            "Epoch:3/20, Batches: 200/235, Loss: 0.0042477925308048725\n",
            "Epoch:4/20, Batches: 100/235, Loss: 0.0031228011939674616\n",
            "Epoch:4/20, Batches: 200/235, Loss: 0.0030968529172241688\n",
            "Epoch:5/20, Batches: 100/235, Loss: 0.0026768865063786507\n",
            "Epoch:5/20, Batches: 200/235, Loss: 0.0032708244398236275\n",
            "Epoch:6/20, Batches: 100/235, Loss: 0.001992212375625968\n",
            "Epoch:6/20, Batches: 200/235, Loss: 0.0020477506332099438\n",
            "Epoch:7/20, Batches: 100/235, Loss: 0.0027796290814876556\n",
            "Epoch:7/20, Batches: 200/235, Loss: 0.0018015060340985656\n",
            "Epoch:8/20, Batches: 100/235, Loss: 0.0010947983246296644\n",
            "Epoch:8/20, Batches: 200/235, Loss: 0.001471659285016358\n",
            "Epoch:9/20, Batches: 100/235, Loss: 0.001032940112054348\n",
            "Epoch:9/20, Batches: 200/235, Loss: 0.0013537806225940585\n",
            "Epoch:10/20, Batches: 100/235, Loss: 0.0006076529971323907\n",
            "Epoch:10/20, Batches: 200/235, Loss: 0.0009827890899032354\n",
            "Epoch:11/20, Batches: 100/235, Loss: 0.002295723417773843\n",
            "Epoch:11/20, Batches: 200/235, Loss: 0.0004890758427791297\n",
            "Epoch:12/20, Batches: 100/235, Loss: 0.0009509219671599567\n",
            "Epoch:12/20, Batches: 200/235, Loss: 0.0007574991905130446\n",
            "Epoch:13/20, Batches: 100/235, Loss: 0.0006468403153121471\n",
            "Epoch:13/20, Batches: 200/235, Loss: 0.0008083262946456671\n",
            "Epoch:14/20, Batches: 100/235, Loss: 0.0011986149474978447\n",
            "Epoch:14/20, Batches: 200/235, Loss: 0.000661462836433202\n",
            "Epoch:15/20, Batches: 100/235, Loss: 0.0006864415481686592\n",
            "Epoch:15/20, Batches: 200/235, Loss: 0.000900908256880939\n",
            "Epoch:16/20, Batches: 100/235, Loss: 0.0007642769487574697\n",
            "Epoch:16/20, Batches: 200/235, Loss: 0.0007816755678504705\n",
            "Epoch:17/20, Batches: 100/235, Loss: 0.0008067594608291984\n",
            "Epoch:17/20, Batches: 200/235, Loss: 0.0009297732030972838\n",
            "Epoch:18/20, Batches: 100/235, Loss: 0.0008383442182093859\n",
            "Epoch:18/20, Batches: 200/235, Loss: 0.0004929522983729839\n",
            "Epoch:19/20, Batches: 100/235, Loss: 0.00034400029107928276\n",
            "Epoch:19/20, Batches: 200/235, Loss: 0.000621450541075319\n",
            "Epoch:20/20, Batches: 100/235, Loss: 0.00045870497706346214\n",
            "Epoch:20/20, Batches: 200/235, Loss: 0.0003642919473350048\n"
          ]
        }
      ]
    },
    {
      "cell_type": "code",
      "metadata": {
        "colab": {
          "base_uri": "https://localhost:8080/",
          "height": 282
        },
        "id": "IlqqcfUZ8RGw",
        "outputId": "e1ebe783-4391-4a28-b3fd-e03c0e85fbf3"
      },
      "source": [
        "import matplotlib.pyplot as plt\n",
        "\n",
        "plt.grid()\n",
        "plt.plot(range(len(losses)), losses)"
      ],
      "execution_count": 18,
      "outputs": [
        {
          "output_type": "execute_result",
          "data": {
            "text/plain": [
              "[<matplotlib.lines.Line2D at 0x7fb1f43e7210>]"
            ]
          },
          "metadata": {},
          "execution_count": 18
        },
        {
          "output_type": "display_data",
          "data": {
            "image/png": "[encoded data removed]",
            "text/plain": [
              "<Figure size 432x288 with 1 Axes>"
            ]
          },
          "metadata": {
            "needs_background": "light"
          }
        }
      ]
    },
    {
      "cell_type": "markdown",
      "metadata": {
        "id": "Lw79h_mTfrCj"
      },
      "source": [
        "## Evaluating the model"
      ]
    },
    {
      "cell_type": "code",
      "metadata": {
        "id": "tFynmgwkHPVH"
      },
      "source": [
        "import numpy as np\n",
        "import sklearn.metrics as mt\n",
        "\n",
        "def evaluate_model(model, X, Y, device):\n",
        "  model.eval()\n",
        "\n",
        "  predictions = None\n",
        "  truths = None\n",
        "\n",
        "  with torch.no_grad():\n",
        "\n",
        "    # recover labels from one-hot encoding\n",
        "    truths = Y.argmax(dim=2)\n",
        "\n",
        "    # recover labels from probabilities\n",
        "    preds = model(X.to(device))\n",
        "    predictions = preds.argmax(dim=2)\n",
        "\n",
        "    # flatten labels\n",
        "    truths = truths.reshape(-1).cpu().numpy()\n",
        "\n",
        "    predictions = predictions.reshape(-1).cpu().numpy()\n",
        "\n",
        "    return mt.accuracy_score(truths, predictions), mt.f1_score(truths, predictions, average='macro'), preds"
      ],
      "execution_count": 51,
      "outputs": []
    },
    {
      "cell_type": "code",
      "metadata": {
        "colab": {
          "base_uri": "https://localhost:8080/"
        },
        "id": "58hNqbTnK10w",
        "outputId": "bc6c363c-7152-4f6f-b972-b3f142f4f051"
      },
      "source": [
        "acc, f1, preds_prob = evaluate_model(model, X_test, Y_test, device)\n",
        "print(f'Accuracy: {acc*100}, f1: {f1*100}')"
      ],
      "execution_count": 52,
      "outputs": [
        {
          "output_type": "stream",
          "name": "stdout",
          "text": [
            "Accuracy: 99.34365140995773, f1: 77.89567514339262\n"
          ]
        }
      ]
    },
    {
      "cell_type": "markdown",
      "metadata": {
        "id": "uwZSw_eRLDtb"
      },
      "source": [
        "## CoNLL evaluation"
      ]
    },
    {
      "cell_type": "code",
      "metadata": {
        "colab": {
          "base_uri": "https://localhost:8080/",
          "height": 206
        },
        "id": "wI1mnIdYYZDf",
        "outputId": "dd21ef65-42f6-4309-ac5f-b6494490ff67"
      },
      "source": [
        "preds = preds_prob.argmax(dim=2).cpu().numpy()\n",
        "preds_unpadded, truncated_truths = unpad(preds, test_set)\n",
        "\n",
        "results = conll.evaluate(truncated_truths, format_predictions_for_conll(preds_unpadded, idx2label))\n",
        "pd_tbl = pd.DataFrame().from_dict(results, orient='index')\n",
        "pd_tbl.round(decimals=3)"
      ],
      "execution_count": 48,
      "outputs": [
        {
          "output_type": "execute_result",
          "data": {
            "text/html": [
              "<div>\n",
              "<style scoped>\n",
              "    .dataframe tbody tr th:only-of-type {\n",
              "        vertical-align: middle;\n",
              "    }\n",
              "\n",
              "    .dataframe tbody tr th {\n",
              "        vertical-align: top;\n",
              "    }\n",
              "\n",
              "    .dataframe thead th {\n",
              "        text-align: right;\n",
              "    }\n",
              "</style>\n",
              "<table border=\"1\" class=\"dataframe\">\n",
              "  <thead>\n",
              "    <tr style=\"text-align: right;\">\n",
              "      <th></th>\n",
              "      <th>p</th>\n",
              "      <th>r</th>\n",
              "      <th>f</th>\n",
              "      <th>s</th>\n",
              "    </tr>\n",
              "  </thead>\n",
              "  <tbody>\n",
              "    <tr>\n",
              "      <th>PER</th>\n",
              "      <td>0.747</td>\n",
              "      <td>0.619</td>\n",
              "      <td>0.677</td>\n",
              "      <td>1616</td>\n",
              "    </tr>\n",
              "    <tr>\n",
              "      <th>MISC</th>\n",
              "      <td>0.551</td>\n",
              "      <td>0.714</td>\n",
              "      <td>0.622</td>\n",
              "      <td>702</td>\n",
              "    </tr>\n",
              "    <tr>\n",
              "      <th>ORG</th>\n",
              "      <td>0.778</td>\n",
              "      <td>0.656</td>\n",
              "      <td>0.712</td>\n",
              "      <td>1661</td>\n",
              "    </tr>\n",
              "    <tr>\n",
              "      <th>LOC</th>\n",
              "      <td>0.875</td>\n",
              "      <td>0.803</td>\n",
              "      <td>0.837</td>\n",
              "      <td>1667</td>\n",
              "    </tr>\n",
              "    <tr>\n",
              "      <th>total</th>\n",
              "      <td>0.759</td>\n",
              "      <td>0.696</td>\n",
              "      <td>0.726</td>\n",
              "      <td>5646</td>\n",
              "    </tr>\n",
              "  </tbody>\n",
              "</table>\n",
              "</div>"
            ],
            "text/plain": [
              "           p      r      f     s\n",
              "PER    0.747  0.619  0.677  1616\n",
              "MISC   0.551  0.714  0.622   702\n",
              "ORG    0.778  0.656  0.712  1661\n",
              "LOC    0.875  0.803  0.837  1667\n",
              "total  0.759  0.696  0.726  5646"
            ]
          },
          "metadata": {},
          "execution_count": 48
        }
      ]
    }
  ]
}